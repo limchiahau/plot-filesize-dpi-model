{
 "cells": [
  {
   "cell_type": "code",
   "execution_count": 2,
   "metadata": {},
   "outputs": [],
   "source": [
    "import pathlib\n",
    "import pandas as pd\n",
    "import functools"
   ]
  },
  {
   "cell_type": "code",
   "execution_count": null,
   "metadata": {},
   "outputs": [],
   "source": [
    "class Model:\n",
    "    root_dir = pathlib.Path('plots')\n",
    "    \n",
    "    def __init__(self):\n",
    "        num_points = [100,1000,10000]\n",
    "        self._data_dir = [self.root_dir / str(points) for points in num_points]\n",
    "    \n",
    "    @property\n",
    "    def data(self):\n",
    "        def join_df(first, second):\n",
    "            return first.append(second, ignore_index=True)\n",
    "        \n",
    "        data_df = [self._to_df(folder) for folder in self._data_dir]\n",
    "        return functools.reduce(join_df, data_df)\n",
    "    \n",
    "    def _to_df(self,folder):\n",
    "        '''Takes a Path object returns a dataframe.\n",
    "        \n",
    "        The columns of the dataframe are:\n",
    "        1) dpi\n",
    "        2) filesize\n",
    "        3) num_points\n",
    "        '''\n",
    "        plots = {self._plot_stats(plot) for plot in folder.iterdir()}\n",
    "        result_df = pd.DataFrame(plots, columns=['dpi', 'filesize'])\n",
    "        \n",
    "        num_points = self._num_points(folder)\n",
    "        result_df = result_df.assign(num_points=num_points)\n",
    "        return result_df\n",
    "    \n",
    "    def _plot_stats(self,file):\n",
    "        '''returns a tuple where the first value\n",
    "        represents dpi and the second value represents filesize.\n",
    "        \n",
    "        The dpi is the name of the file without the extension.\n",
    "        '''\n",
    "        dpi = int(file.stem)\n",
    "        filesize = file.stat().st_size\n",
    "        \n",
    "        return (dpi, filesize)\n",
    "    \n",
    "    def _num_points(self,folder):\n",
    "        return int(folder.stem)"
   ]
  }
 ],
 "metadata": {
  "kernelspec": {
   "display_name": "Python 3",
   "language": "python",
   "name": "python3"
  },
  "language_info": {
   "codemirror_mode": {
    "name": "ipython",
    "version": 3
   },
   "file_extension": ".py",
   "mimetype": "text/x-python",
   "name": "python",
   "nbconvert_exporter": "python",
   "pygments_lexer": "ipython3",
   "version": "3.7.4"
  }
 },
 "nbformat": 4,
 "nbformat_minor": 2
}
